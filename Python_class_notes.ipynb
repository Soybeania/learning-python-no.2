{
  "nbformat": 4,
  "nbformat_minor": 0,
  "metadata": {
    "colab": {
      "provenance": [],
      "authorship_tag": "ABX9TyOXTnCuNrCYJ+XB3xoQsZoZ",
      "include_colab_link": true
    },
    "kernelspec": {
      "name": "python3",
      "display_name": "Python 3"
    },
    "language_info": {
      "name": "python"
    }
  },
  "cells": [
    {
      "cell_type": "markdown",
      "metadata": {
        "id": "view-in-github",
        "colab_type": "text"
      },
      "source": [
        "<a href=\"https://colab.research.google.com/github/Soybeania/learning-python-no.2/blob/main/Python_class_notes.ipynb\" target=\"_parent\"><img src=\"https://colab.research.google.com/assets/colab-badge.svg\" alt=\"Open In Colab\"/></a>"
      ]
    },
    {
      "cell_type": "markdown",
      "source": [
        "#20240322筆記\n",
        "\n",
        "$E=mc^2$\n",
        "\n",
        "$ k_{n+1} = n^2 + k_n^2 - k{n-1} $"
      ],
      "metadata": {
        "id": "A69sOYjTbBwq"
      }
    },
    {
      "cell_type": "markdown",
      "source": [
        "## 變數命名規則\n",
        "\n",
        "\n",
        "1.Variable naming rules\n",
        "2.Start with a letter or underline\n",
        "3.In addition to the headrest,  English subtitles, underlines, and numbers can be used\n",
        "4.Variables are case-sensitive\n",
        "5.Avoid using keywords\n",
        "\n",
        "<_pre>"
      ],
      "metadata": {
        "id": "rWbG5oOwcG_R"
      }
    },
    {
      "cell_type": "code",
      "execution_count": null,
      "metadata": {
        "id": "Unu0sv9MZslg"
      },
      "outputs": [],
      "source": [
        "#1\n",
        "abc=1"
      ]
    },
    {
      "cell_type": "code",
      "source": [
        "#1\n",
        "_xyz = 2"
      ],
      "metadata": {
        "id": "TWK3_ISrdQsd"
      },
      "execution_count": null,
      "outputs": []
    },
    {
      "cell_type": "code",
      "source": [
        "#2\n",
        "abc123 = 321"
      ],
      "metadata": {
        "id": "3poHr_BPdWr7"
      },
      "execution_count": null,
      "outputs": []
    },
    {
      "cell_type": "code",
      "source": [
        "# .3\n",
        "Abc"
      ],
      "metadata": {
        "colab": {
          "base_uri": "https://localhost:8080/",
          "height": 162
        },
        "id": "769B1VX4eFd4",
        "outputId": "5ff1f867-a65b-4358-942f-54f54b0d0677"
      },
      "execution_count": null,
      "outputs": [
        {
          "output_type": "error",
          "ename": "NameError",
          "evalue": "name 'Abc' is not defined",
          "traceback": [
            "\u001b[0;31m---------------------------------------------------------------------------\u001b[0m",
            "\u001b[0;31mNameError\u001b[0m                                 Traceback (most recent call last)",
            "\u001b[0;32m<ipython-input-18-2e39c8bd966b>\u001b[0m in \u001b[0;36m<cell line: 2>\u001b[0;34m()\u001b[0m\n\u001b[1;32m      1\u001b[0m \u001b[0;31m# .3\u001b[0m\u001b[0;34m\u001b[0m\u001b[0;34m\u001b[0m\u001b[0m\n\u001b[0;32m----> 2\u001b[0;31m \u001b[0mAbc\u001b[0m\u001b[0;34m\u001b[0m\u001b[0;34m\u001b[0m\u001b[0m\n\u001b[0m",
            "\u001b[0;31mNameError\u001b[0m: name 'Abc' is not defined"
          ]
        }
      ]
    },
    {
      "cell_type": "markdown",
      "source": [
        "## 基本資料型態 (basic data types)\n",
        "\n",
        "* int\n",
        "* float\n",
        "* boot\n",
        "* str"
      ],
      "metadata": {
        "id": "t8OHr5UhgYzL"
      }
    },
    {
      "cell_type": "markdown",
      "source": [
        "### int"
      ],
      "metadata": {
        "id": "JhU2hCNWh991"
      }
    },
    {
      "cell_type": "code",
      "source": [
        "x = 1"
      ],
      "metadata": {
        "id": "srK8sY-ChpRt"
      },
      "execution_count": null,
      "outputs": []
    },
    {
      "cell_type": "code",
      "source": [
        "type(x)"
      ],
      "metadata": {
        "colab": {
          "base_uri": "https://localhost:8080/"
        },
        "id": "sQTeQL9YhpDV",
        "outputId": "b0147159-1102-4543-c25c-bfd9cbbe8178"
      },
      "execution_count": null,
      "outputs": [
        {
          "output_type": "execute_result",
          "data": {
            "text/plain": [
              "int"
            ]
          },
          "metadata": {},
          "execution_count": 4
        }
      ]
    },
    {
      "cell_type": "code",
      "source": [
        "type?"
      ],
      "metadata": {
        "id": "5zY4k9MAiI9w"
      },
      "execution_count": null,
      "outputs": []
    },
    {
      "cell_type": "markdown",
      "source": [
        "###float"
      ],
      "metadata": {
        "id": "RW6N0wxJiTgg"
      }
    },
    {
      "cell_type": "code",
      "source": [
        "y = 3.14"
      ],
      "metadata": {
        "id": "rtBBvVVTiXf9"
      },
      "execution_count": null,
      "outputs": []
    },
    {
      "cell_type": "code",
      "source": [
        "type(y)"
      ],
      "metadata": {
        "colab": {
          "base_uri": "https://localhost:8080/"
        },
        "id": "YgyQtZdcivxC",
        "outputId": "b828f3f3-d367-418e-91d5-f989b99af2ec"
      },
      "execution_count": null,
      "outputs": [
        {
          "output_type": "execute_result",
          "data": {
            "text/plain": [
              "float"
            ]
          },
          "metadata": {},
          "execution_count": 56
        }
      ]
    },
    {
      "cell_type": "markdown",
      "source": [
        "### bool"
      ],
      "metadata": {
        "id": "175hd7N4jhw7"
      }
    },
    {
      "cell_type": "code",
      "source": [
        "3 > 2"
      ],
      "metadata": {
        "colab": {
          "base_uri": "https://localhost:8080/"
        },
        "id": "5IGiGIZ4jl_S",
        "outputId": "cab9d8a2-a892-478f-9a1e-a2db0c33ca4d"
      },
      "execution_count": null,
      "outputs": [
        {
          "output_type": "execute_result",
          "data": {
            "text/plain": [
              "True"
            ]
          },
          "metadata": {},
          "execution_count": 9
        }
      ]
    },
    {
      "cell_type": "code",
      "source": [
        "Z = 3 > 2"
      ],
      "metadata": {
        "id": "hRlVXYKnjoDI"
      },
      "execution_count": null,
      "outputs": []
    },
    {
      "cell_type": "code",
      "source": [
        "type(z)"
      ],
      "metadata": {
        "id": "UIbsloH4ju8O"
      },
      "execution_count": null,
      "outputs": []
    },
    {
      "cell_type": "markdown",
      "source": [
        "### str"
      ],
      "metadata": {
        "id": "YtXo1hlejtsD"
      }
    },
    {
      "cell_type": "code",
      "source": [
        "s = \"dog\""
      ],
      "metadata": {
        "id": "3WxTF-rbjyWv"
      },
      "execution_count": null,
      "outputs": []
    },
    {
      "cell_type": "code",
      "source": [
        "type(s)"
      ],
      "metadata": {
        "colab": {
          "base_uri": "https://localhost:8080/"
        },
        "id": "_ydvqVEYj1Nk",
        "outputId": "e3b0f17e-dd07-41c1-9296-4429ec211caa"
      },
      "execution_count": null,
      "outputs": [
        {
          "output_type": "execute_result",
          "data": {
            "text/plain": [
              "str"
            ]
          },
          "metadata": {},
          "execution_count": 12
        }
      ]
    },
    {
      "cell_type": "markdown",
      "source": [
        "## Common math operators"
      ],
      "metadata": {
        "id": "OR6uRFnUj9WS"
      }
    },
    {
      "cell_type": "markdown",
      "source": [
        "### Add, Subtract, Multiply, Divide"
      ],
      "metadata": {
        "id": "Q8EFnWmhkH7K"
      }
    },
    {
      "cell_type": "code",
      "source": [
        "3 + 2"
      ],
      "metadata": {
        "colab": {
          "base_uri": "https://localhost:8080/"
        },
        "id": "jo_c7hO1kHHR",
        "outputId": "f28d5e88-d47d-4ee6-d832-ec61b7194736"
      },
      "execution_count": null,
      "outputs": [
        {
          "output_type": "execute_result",
          "data": {
            "text/plain": [
              "5"
            ]
          },
          "metadata": {},
          "execution_count": 14
        }
      ]
    },
    {
      "cell_type": "code",
      "source": [
        "3 - 2"
      ],
      "metadata": {
        "colab": {
          "base_uri": "https://localhost:8080/"
        },
        "id": "PwAUim2ckbum",
        "outputId": "b67b3766-8a1e-4008-d5ab-8b7a4d311e8e"
      },
      "execution_count": null,
      "outputs": [
        {
          "output_type": "execute_result",
          "data": {
            "text/plain": [
              "1"
            ]
          },
          "metadata": {},
          "execution_count": 15
        }
      ]
    },
    {
      "cell_type": "code",
      "source": [
        "3 * 2"
      ],
      "metadata": {
        "colab": {
          "base_uri": "https://localhost:8080/"
        },
        "id": "ke3dF4Z2khHq",
        "outputId": "ed5dd50f-3ba4-4b3b-fc75-ce913d506b70"
      },
      "execution_count": null,
      "outputs": [
        {
          "output_type": "execute_result",
          "data": {
            "text/plain": [
              "6"
            ]
          },
          "metadata": {},
          "execution_count": 16
        }
      ]
    },
    {
      "cell_type": "code",
      "source": [
        "3/2"
      ],
      "metadata": {
        "colab": {
          "base_uri": "https://localhost:8080/"
        },
        "id": "pmi6act1klLS",
        "outputId": "4fc0635b-cc1c-41be-cf0b-f67c82afc862"
      },
      "execution_count": null,
      "outputs": [
        {
          "output_type": "execute_result",
          "data": {
            "text/plain": [
              "1.5"
            ]
          },
          "metadata": {},
          "execution_count": 17
        }
      ]
    },
    {
      "cell_type": "code",
      "source": [
        "# Integer Division\n",
        "\n",
        "3 // 2"
      ],
      "metadata": {
        "colab": {
          "base_uri": "https://localhost:8080/"
        },
        "id": "ggD0A0J_kxvO",
        "outputId": "d62421f3-1961-4b6a-a8ed-e8689c1c35da"
      },
      "execution_count": null,
      "outputs": [
        {
          "output_type": "execute_result",
          "data": {
            "text/plain": [
              "1"
            ]
          },
          "metadata": {},
          "execution_count": 20
        }
      ]
    },
    {
      "cell_type": "markdown",
      "source": [
        "### comparison operator"
      ],
      "metadata": {
        "id": "GDNy4FNOlSg8"
      }
    },
    {
      "cell_type": "code",
      "source": [
        "3 > 2"
      ],
      "metadata": {
        "colab": {
          "base_uri": "https://localhost:8080/"
        },
        "id": "1elcfd-zlehw",
        "outputId": "ee0b4b01-9978-478c-ccc0-afe3dac6f852"
      },
      "execution_count": null,
      "outputs": [
        {
          "output_type": "execute_result",
          "data": {
            "text/plain": [
              "True"
            ]
          },
          "metadata": {},
          "execution_count": 21
        }
      ]
    },
    {
      "cell_type": "code",
      "source": [
        "3 >= 2"
      ],
      "metadata": {
        "colab": {
          "base_uri": "https://localhost:8080/"
        },
        "id": "mVxeqXzRljuC",
        "outputId": "17f25999-2c2d-4f81-c40f-10c4bafd0c72"
      },
      "execution_count": null,
      "outputs": [
        {
          "output_type": "execute_result",
          "data": {
            "text/plain": [
              "True"
            ]
          },
          "metadata": {},
          "execution_count": 23
        }
      ]
    },
    {
      "cell_type": "code",
      "source": [
        "3 < 2"
      ],
      "metadata": {
        "colab": {
          "base_uri": "https://localhost:8080/"
        },
        "id": "vAdC9XhhljWU",
        "outputId": "3ad3815f-eb18-40e4-fab1-24f79e8d7adb"
      },
      "execution_count": null,
      "outputs": [
        {
          "output_type": "execute_result",
          "data": {
            "text/plain": [
              "False"
            ]
          },
          "metadata": {},
          "execution_count": 26
        }
      ]
    },
    {
      "cell_type": "code",
      "source": [
        "# 比較兩邊優美又想等\n",
        "\n",
        "3 <= 2"
      ],
      "metadata": {
        "colab": {
          "base_uri": "https://localhost:8080/"
        },
        "id": "-s9qi376ljj4",
        "outputId": "664b9bc2-fd7d-4b5b-dc21-2b813e3f9b37"
      },
      "execution_count": null,
      "outputs": [
        {
          "output_type": "execute_result",
          "data": {
            "text/plain": [
              "False"
            ]
          },
          "metadata": {},
          "execution_count": 27
        }
      ]
    },
    {
      "cell_type": "code",
      "source": [
        "# 比較兩邊優美又不想等\n",
        "\n",
        "3 == 2"
      ],
      "metadata": {
        "colab": {
          "base_uri": "https://localhost:8080/"
        },
        "id": "1KOai4SplucM",
        "outputId": "ece06b06-9349-4388-c554-30f38295192c"
      },
      "execution_count": null,
      "outputs": [
        {
          "output_type": "execute_result",
          "data": {
            "text/plain": [
              "False"
            ]
          },
          "metadata": {},
          "execution_count": 28
        }
      ]
    },
    {
      "cell_type": "markdown",
      "source": [
        "Assignment Operators"
      ],
      "metadata": {
        "id": "8qaK9kfJmlkD"
      }
    },
    {
      "cell_type": "code",
      "source": [
        "x = 1"
      ],
      "metadata": {
        "id": "GUFkMmOEmmKG"
      },
      "execution_count": null,
      "outputs": []
    },
    {
      "cell_type": "code",
      "source": [
        "x"
      ],
      "metadata": {
        "colab": {
          "base_uri": "https://localhost:8080/"
        },
        "id": "Jn8DGeWBmmbj",
        "outputId": "56db0f88-757f-4cd7-8729-5ba28ff6d30d"
      },
      "execution_count": null,
      "outputs": [
        {
          "output_type": "execute_result",
          "data": {
            "text/plain": [
              "1"
            ]
          },
          "metadata": {},
          "execution_count": 43
        }
      ]
    },
    {
      "cell_type": "code",
      "source": [
        "#x = x + 1\n",
        "\n",
        "x += 1"
      ],
      "metadata": {
        "id": "Kses2_s8mt-W"
      },
      "execution_count": null,
      "outputs": []
    },
    {
      "cell_type": "code",
      "source": [
        "x"
      ],
      "metadata": {
        "colab": {
          "base_uri": "https://localhost:8080/"
        },
        "id": "zFVVZaAEnN1r",
        "outputId": "231ccc3d-5ee9-4b2e-bc89-5a00a7c1e43e"
      },
      "execution_count": null,
      "outputs": [
        {
          "output_type": "execute_result",
          "data": {
            "text/plain": [
              "2"
            ]
          },
          "metadata": {},
          "execution_count": 45
        }
      ]
    },
    {
      "cell_type": "code",
      "source": [
        "#x = x - 1\n",
        "\n",
        "x -= 1"
      ],
      "metadata": {
        "id": "adUuNKeInXlo"
      },
      "execution_count": null,
      "outputs": []
    },
    {
      "cell_type": "code",
      "source": [
        "x"
      ],
      "metadata": {
        "colab": {
          "base_uri": "https://localhost:8080/"
        },
        "id": "n96fsYb-ncDB",
        "outputId": "14a6ebcd-172c-4f58-b4c7-93960db2e0e4"
      },
      "execution_count": null,
      "outputs": [
        {
          "output_type": "execute_result",
          "data": {
            "text/plain": [
              "1"
            ]
          },
          "metadata": {},
          "execution_count": 47
        }
      ]
    },
    {
      "cell_type": "code",
      "source": [
        "#x = x * 2\n",
        "\n",
        "x *= 2"
      ],
      "metadata": {
        "id": "fbvWZ1FJneds"
      },
      "execution_count": null,
      "outputs": []
    },
    {
      "cell_type": "code",
      "source": [
        "x"
      ],
      "metadata": {
        "colab": {
          "base_uri": "https://localhost:8080/"
        },
        "id": "fXZ1M7qqnl4L",
        "outputId": "d079ce80-9818-44ef-e00b-c57b5dd084ff"
      },
      "execution_count": null,
      "outputs": [
        {
          "output_type": "execute_result",
          "data": {
            "text/plain": [
              "2"
            ]
          },
          "metadata": {},
          "execution_count": 61
        }
      ]
    },
    {
      "cell_type": "code",
      "source": [
        " y"
      ],
      "metadata": {
        "colab": {
          "base_uri": "https://localhost:8080/"
        },
        "id": "mW-4fQtrqA9P",
        "outputId": "d46c6139-95bf-437a-84af-c07a9be90d3b"
      },
      "execution_count": null,
      "outputs": [
        {
          "output_type": "execute_result",
          "data": {
            "text/plain": [
              "3.14"
            ]
          },
          "metadata": {},
          "execution_count": 60
        }
      ]
    },
    {
      "cell_type": "code",
      "source": [
        "z = x ==y"
      ],
      "metadata": {
        "id": "hewoNbmqqPuW"
      },
      "execution_count": null,
      "outputs": []
    },
    {
      "cell_type": "code",
      "source": [
        "z"
      ],
      "metadata": {
        "colab": {
          "base_uri": "https://localhost:8080/"
        },
        "id": "GzS6pRyArBYg",
        "outputId": "92e90adc-c455-416f-9055-7749ef1ebd42"
      },
      "execution_count": null,
      "outputs": [
        {
          "output_type": "execute_result",
          "data": {
            "text/plain": [
              "False"
            ]
          },
          "metadata": {},
          "execution_count": 63
        }
      ]
    },
    {
      "cell_type": "code",
      "source": [
        "m = 4\n",
        "n = 2\n",
        "k = m / n"
      ],
      "metadata": {
        "id": "_qTHrwxurD0O"
      },
      "execution_count": null,
      "outputs": []
    },
    {
      "cell_type": "code",
      "source": [
        "type(k)"
      ],
      "metadata": {
        "colab": {
          "base_uri": "https://localhost:8080/"
        },
        "id": "1X9SNK5crKlz",
        "outputId": "8e27259c-16bb-4cf2-9e2c-00042b77aa2a"
      },
      "execution_count": null,
      "outputs": [
        {
          "output_type": "execute_result",
          "data": {
            "text/plain": [
              "float"
            ]
          },
          "metadata": {},
          "execution_count": 66
        }
      ]
    },
    {
      "cell_type": "code",
      "source": [
        "m / n"
      ],
      "metadata": {
        "colab": {
          "base_uri": "https://localhost:8080/"
        },
        "id": "UV72F4SbrKgo",
        "outputId": "04492659-4fb4-4349-d72a-67304aa611d9"
      },
      "execution_count": null,
      "outputs": [
        {
          "output_type": "execute_result",
          "data": {
            "text/plain": [
              "2.0"
            ]
          },
          "metadata": {},
          "execution_count": 67
        }
      ]
    },
    {
      "cell_type": "code",
      "source": [
        "k = m//n"
      ],
      "metadata": {
        "id": "Jgo7KY4VrKdv"
      },
      "execution_count": null,
      "outputs": []
    },
    {
      "cell_type": "code",
      "source": [
        "type(k)"
      ],
      "metadata": {
        "colab": {
          "base_uri": "https://localhost:8080/"
        },
        "id": "ZqBexN9FrKam",
        "outputId": "b0216549-fd1a-4d28-9505-ac3f073dcd5e"
      },
      "execution_count": null,
      "outputs": [
        {
          "output_type": "execute_result",
          "data": {
            "text/plain": [
              "int"
            ]
          },
          "metadata": {},
          "execution_count": 69
        }
      ]
    },
    {
      "cell_type": "markdown",
      "source": [
        "## 應用02"
      ],
      "metadata": {
        "id": "HeXznhDAswr8"
      }
    },
    {
      "cell_type": "markdown",
      "source": [
        "## Input & print"
      ],
      "metadata": {
        "id": "ajzhjk14s0Hv"
      }
    },
    {
      "cell_type": "markdown",
      "source": [],
      "metadata": {
        "id": "9ljN_vEtwx8n"
      }
    },
    {
      "cell_type": "code",
      "source": [
        "x = input(\"請輸入一個數字 \")"
      ],
      "metadata": {
        "colab": {
          "base_uri": "https://localhost:8080/"
        },
        "id": "d6Lg4gTjsztI",
        "outputId": "bcb7c019-03ae-4d1a-9ba3-c73e88abcea5"
      },
      "execution_count": null,
      "outputs": [
        {
          "name": "stdout",
          "output_type": "stream",
          "text": [
            "請輸入一個數字 10\n"
          ]
        }
      ]
    },
    {
      "cell_type": "code",
      "source": [
        "type(x)"
      ],
      "metadata": {
        "colab": {
          "base_uri": "https://localhost:8080/"
        },
        "id": "sgu6-Kw_tMqw",
        "outputId": "ad75b415-c003-4ac8-b0b9-59b70329b9bf"
      },
      "execution_count": null,
      "outputs": [
        {
          "output_type": "execute_result",
          "data": {
            "text/plain": [
              "str"
            ]
          },
          "metadata": {},
          "execution_count": 73
        }
      ]
    },
    {
      "cell_type": "code",
      "source": [
        "x == 10"
      ],
      "metadata": {
        "colab": {
          "base_uri": "https://localhost:8080/"
        },
        "id": "DOwfVTKHtS13",
        "outputId": "7a303cbd-5fe3-40ce-d0b2-2da2fa15cc52"
      },
      "execution_count": null,
      "outputs": [
        {
          "output_type": "execute_result",
          "data": {
            "text/plain": [
              "False"
            ]
          },
          "metadata": {},
          "execution_count": 74
        }
      ]
    },
    {
      "cell_type": "code",
      "source": [
        "int(x) == 10"
      ],
      "metadata": {
        "colab": {
          "base_uri": "https://localhost:8080/"
        },
        "id": "9Vc4Tjyotq5e",
        "outputId": "f8762df2-9526-4f4b-aeef-d077d225783c"
      },
      "execution_count": null,
      "outputs": [
        {
          "output_type": "execute_result",
          "data": {
            "text/plain": [
              "True"
            ]
          },
          "metadata": {},
          "execution_count": 75
        }
      ]
    },
    {
      "cell_type": "markdown",
      "source": [
        "## if statements\n",
        "\n",
        "四個基本的語法\n",
        "* Loops (e.g. for)\n",
        "* Functions (e.g. def)\n",
        "* if statements\n",
        "* exception handling"
      ],
      "metadata": {
        "id": "7-ElULBQuETE"
      }
    },
    {
      "cell_type": "code",
      "source": [
        "if True:\n",
        "  print(\"Hello\")"
      ],
      "metadata": {
        "colab": {
          "base_uri": "https://localhost:8080/"
        },
        "id": "a_6iYigrtwBE",
        "outputId": "49e75d66-1f92-4142-8cf5-3c2da431e56c"
      },
      "execution_count": null,
      "outputs": [
        {
          "output_type": "stream",
          "name": "stdout",
          "text": [
            "Hello\n"
          ]
        }
      ]
    },
    {
      "cell_type": "code",
      "source": [
        "if False:\n",
        "  print(\"Hello\")"
      ],
      "metadata": {
        "id": "EN93uPZsukbf"
      },
      "execution_count": null,
      "outputs": []
    },
    {
      "cell_type": "code",
      "source": [
        "if 3 > 2:\n",
        "  print (\"Hello\")"
      ],
      "metadata": {
        "colab": {
          "base_uri": "https://localhost:8080/"
        },
        "id": "u1yN-RWkuoGr",
        "outputId": "54d213ee-93bf-4a7d-8398-841cbefa4940"
      },
      "execution_count": null,
      "outputs": [
        {
          "output_type": "stream",
          "name": "stdout",
          "text": [
            "Hello\n"
          ]
        }
      ]
    },
    {
      "cell_type": "code",
      "source": [
        "x = 2\n",
        "y = 3\n",
        "if x > y:\n",
        "  print(\"Hello\")"
      ],
      "metadata": {
        "id": "UU0PO74nvnUa"
      },
      "execution_count": null,
      "outputs": []
    },
    {
      "cell_type": "code",
      "source": [
        "if True:\n",
        "  print(\"A\")\n",
        "else:\n",
        "  print (\"B\")"
      ],
      "metadata": {
        "colab": {
          "base_uri": "https://localhost:8080/"
        },
        "id": "wg-HfufAwLFW",
        "outputId": "b0685509-492e-4538-dcee-5a1f415abc9a"
      },
      "execution_count": null,
      "outputs": [
        {
          "output_type": "stream",
          "name": "stdout",
          "text": [
            "A\n"
          ]
        }
      ]
    },
    {
      "cell_type": "code",
      "source": [
        "if False:\n",
        "  print (\"A\")\n",
        "else:\n",
        "  print(\"B\")\n"
      ],
      "metadata": {
        "colab": {
          "base_uri": "https://localhost:8080/"
        },
        "id": "gTLAELc2wUDD",
        "outputId": "20a34fd8-11e0-478f-a27c-0fb0a15d0816"
      },
      "execution_count": null,
      "outputs": [
        {
          "output_type": "stream",
          "name": "stdout",
          "text": [
            "B\n"
          ]
        }
      ]
    },
    {
      "cell_type": "markdown",
      "source": [
        "## 應用 03\n",
        "Please write a program and use input(). Please use a number.\n",
        "Elicit whether the number is greater than or equal to 10, or less than or equal to 10."
      ],
      "metadata": {
        "id": "2B_DjcQHwhH8"
      }
    },
    {
      "cell_type": "code",
      "source": [],
      "metadata": {
        "id": "3fjkJ4POzxyD"
      },
      "execution_count": null,
      "outputs": []
    },
    {
      "cell_type": "markdown",
      "source": [
        "## 應用 04\n",
        "Given a random integer [1, 5].\n",
        "\n",
        "Use input to read a number and compare whether the result is the same as the previously generated random integer."
      ],
      "metadata": {
        "id": "q1TJY7T_zlCq"
      }
    },
    {
      "cell_type": "code",
      "source": [
        "import random\n",
        "\n",
        "n = random.randint(1,5)\n",
        "x = input (\"please enter a number\")\n",
        "if int(x)==n:\n",
        "  print (\"Correct! The answer is\",n)\n",
        "else:\n",
        "  print(\"Incorrect! the answer is\",n)\n",
        "  y+1\n"
      ],
      "metadata": {
        "colab": {
          "base_uri": "https://localhost:8080/"
        },
        "id": "PZO8Ccrhz0VV",
        "outputId": "15f9ff84-439d-4fad-96e8-c80bb84423d4"
      },
      "execution_count": null,
      "outputs": [
        {
          "output_type": "stream",
          "name": "stdout",
          "text": [
            "please enter a number2\n",
            "Incorrect! the answer is 3\n"
          ]
        }
      ]
    }
  ]
}