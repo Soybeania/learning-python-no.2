{
  "nbformat": 4,
  "nbformat_minor": 0,
  "metadata": {
    "colab": {
      "provenance": [],
      "toc_visible": true,
      "authorship_tag": "ABX9TyP2oUTWJ8cX45E74HD+LAs9",
      "include_colab_link": true
    },
    "kernelspec": {
      "name": "python3",
      "display_name": "Python 3"
    },
    "language_info": {
      "name": "python"
    }
  },
  "cells": [
    {
      "cell_type": "markdown",
      "metadata": {
        "id": "view-in-github",
        "colab_type": "text"
      },
      "source": [
        "<a href=\"https://colab.research.google.com/github/Soybeania/learning-python-no.2/blob/main/Python_3.ipynb\" target=\"_parent\"><img src=\"https://colab.research.google.com/assets/colab-badge.svg\" alt=\"Open In Colab\"/></a>"
      ]
    },
    {
      "cell_type": "markdown",
      "source": [
        "#240413筆記"
      ],
      "metadata": {
        "id": "KGwvbmmSpLYt"
      }
    },
    {
      "cell_type": "code",
      "source": [
        "Print(\"Hello World\")"
      ],
      "metadata": {
        "id": "p3Gd8R9JpOXV"
      },
      "execution_count": null,
      "outputs": []
    }
  ]
}